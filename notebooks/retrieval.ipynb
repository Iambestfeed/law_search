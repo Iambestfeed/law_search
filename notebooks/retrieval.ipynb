{
 "cells": [
  {
   "cell_type": "code",
   "execution_count": 24,
   "metadata": {},
   "outputs": [
    {
     "name": "stdout",
     "output_type": "stream",
     "text": [
      "/home/nhan-softzone/law_search\n"
     ]
    },
    {
     "name": "stderr",
     "output_type": "stream",
     "text": [
      "/home/nhan-softzone/miniconda3/envs/law_agent/lib/python3.10/site-packages/IPython/core/magics/osm.py:417: UserWarning: This is now an optional IPython functionality, setting dhist requires you to install the `pickleshare` library.\n",
      "  self.shell.db['dhist'] = compress_dhist(dhist)[-100:]\n"
     ]
    }
   ],
   "source": [
    "cd /home/nhan-softzone/law_search"
   ]
  },
  {
   "cell_type": "code",
   "execution_count": null,
   "metadata": {},
   "outputs": [
    {
     "name": "stdout",
     "output_type": "stream",
     "text": [
      "Indexing documents...\n"
     ]
    },
    {
     "name": "stderr",
     "output_type": "stream",
     "text": [
      "  0%|          | 0/640 [00:00<?, ?it/s]                           "
     ]
    },
    {
     "name": "stdout",
     "output_type": "stream",
     "text": [
      "Evaluating queries...\n"
     ]
    },
    {
     "name": "stderr",
     "output_type": "stream",
     "text": [
      "100%|██████████| 640/640 [00:53<00:00, 11.99it/s]\n"
     ]
    },
    {
     "name": "stdout",
     "output_type": "stream",
     "text": [
      "Indexing documents...\n"
     ]
    },
    {
     "name": "stderr",
     "output_type": "stream",
     "text": [
      "  0%|          | 0/640 [00:00<?, ?it/s]                           "
     ]
    },
    {
     "name": "stdout",
     "output_type": "stream",
     "text": [
      "Evaluating queries...\n"
     ]
    },
    {
     "name": "stderr",
     "output_type": "stream",
     "text": [
      "100%|██████████| 640/640 [00:53<00:00, 12.01it/s]"
     ]
    },
    {
     "name": "stdout",
     "output_type": "stream",
     "text": [
      "                  bkai    halong\n",
      "ndcg@3        0.927286  0.873138\n",
      "ndcg@5        0.930580  0.892030\n",
      "ndcg@10       0.929662  0.898843\n",
      "mrr@3         0.910677  0.855729\n",
      "mrr@5         0.912682  0.867318\n",
      "mrr@10        0.911202  0.871318\n",
      "recall@3      0.975000  0.923438\n",
      "recall@5      0.982812  0.965625\n",
      "recall@10     0.984375  0.982812\n",
      "precision@3   0.325000  0.307812\n",
      "precision@5   0.196562  0.193125\n",
      "precision@10  0.098437  0.098281\n",
      "f1@3          0.487500  0.461719\n",
      "f1@5          0.327604  0.321875\n",
      "f1@10         0.178977  0.178693\n"
     ]
    },
    {
     "name": "stderr",
     "output_type": "stream",
     "text": [
      "\n"
     ]
    }
   ],
   "source": [
    "import random\n",
    "import numpy as np\n",
    "import pandas as pd\n",
    "from datasets import load_dataset\n",
    "from modules.eval.hybrid_engine import HybridEvaluationEngine\n",
    "\n",
    "# Configuration\n",
    "bm25_weight = 0.5\n",
    "dense_weight = 0.5\n",
    "rrf_k = 60.0\n",
    "batch_size = 32\n",
    "dimension = 768\n",
    "\n",
    "models = {\n",
    "    \"bkai\": {\n",
    "        \"model_name\": \"bkai-foundation-models/vietnamese-bi-encoder\",\n",
    "        \"word_segment\": True\n",
    "    },\n",
    "    \"halong\": {\n",
    "        \"model_name\": \"hiieu/halong_embedding\",\n",
    "        \"word_segment\": False\n",
    "    }\n",
    "}\n",
    "\n",
    "dataset_name_base = \"another-symato/VMTEB-Zalo-legel-retrieval\"\n",
    "num_corpus_addition = 0\n",
    "\n",
    "eval_results = {}\n",
    "\n",
    "for model_key, model_config in models.items():\n",
    "    dataset_name = dataset_name_base + \"-wseg\" if model_config[\"word_segment\"] else dataset_name_base\n",
    "    \n",
    "    # Load datasets\n",
    "    corpus = load_dataset(dataset_name, \"corpus\", split='train')\n",
    "    queries = load_dataset(dataset_name, \"queries\", split='train')\n",
    "    relevant_docs_data = load_dataset(dataset_name, \"data_ir\", split=\"test\")\n",
    "    \n",
    "    # Filter corpus and queries based on relevant docs\n",
    "    required_corpus_ids = list(map(str, relevant_docs_data[\"corpus_id\"]))\n",
    "    if num_corpus_addition:\n",
    "        required_corpus_ids += random.sample(corpus[\"id\"], k=num_corpus_addition)\n",
    "    corpus = corpus.filter(lambda x: x[\"id\"] in required_corpus_ids)\n",
    "    \n",
    "    required_queries_ids = list(map(str, relevant_docs_data[\"query_id\"]))\n",
    "    queries = queries.filter(lambda x: x[\"query_id\"] in required_queries_ids)\n",
    "    \n",
    "    # Convert to dictionary format\n",
    "    corpus_dict = dict(zip(corpus[\"id\"], corpus[\"text\"]))\n",
    "    queries_dict = dict(zip(queries[\"query_id\"], queries[\"question\"]))\n",
    "    relevant_docs = {}\n",
    "    for qid, corpus_id in zip(relevant_docs_data[\"query_id\"], relevant_docs_data[\"corpus_id\"]):\n",
    "        qid = str(qid)\n",
    "        corpus_id = str(corpus_id)\n",
    "        if qid not in relevant_docs:\n",
    "            relevant_docs[qid] = set()\n",
    "        relevant_docs[qid].add(corpus_id)\n",
    "    \n",
    "    # Initialize evaluation engine\n",
    "    engine = HybridEvaluationEngine(\n",
    "        model_name=model_config[\"model_name\"],\n",
    "        bm25_weight=bm25_weight,\n",
    "        dense_weight=dense_weight,\n",
    "        rrf_k=rrf_k,\n",
    "        dimension=dimension\n",
    "    )\n",
    "    \n",
    "    # Run evaluation\n",
    "    eval_results[model_key] = engine.evaluate(queries, corpus, relevant_docs)\n",
    "\n",
    "# Create score board\n",
    "df_score_board = pd.DataFrame(eval_results)"
   ]
  },
  {
   "cell_type": "code",
   "execution_count": 27,
   "metadata": {},
   "outputs": [],
   "source": [
    "df_score_board.to_json('output/scores.json')"
   ]
  },
  {
   "cell_type": "code",
   "execution_count": null,
   "metadata": {},
   "outputs": [],
   "source": []
  }
 ],
 "metadata": {
  "kernelspec": {
   "display_name": "law_agent",
   "language": "python",
   "name": "python3"
  },
  "language_info": {
   "codemirror_mode": {
    "name": "ipython",
    "version": 3
   },
   "file_extension": ".py",
   "mimetype": "text/x-python",
   "name": "python",
   "nbconvert_exporter": "python",
   "pygments_lexer": "ipython3",
   "version": "3.10.0"
  }
 },
 "nbformat": 4,
 "nbformat_minor": 2
}
