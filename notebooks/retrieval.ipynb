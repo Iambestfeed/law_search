{
 "cells": [
  {
   "cell_type": "code",
   "execution_count": 1,
   "metadata": {},
   "outputs": [
    {
     "name": "stdout",
     "output_type": "stream",
     "text": [
      "/home/nhan-softzone/law_search\n"
     ]
    },
    {
     "name": "stderr",
     "output_type": "stream",
     "text": [
      "/home/nhan-softzone/miniconda3/envs/law_agent/lib/python3.10/site-packages/IPython/core/magics/osm.py:417: UserWarning: This is now an optional IPython functionality, setting dhist requires you to install the `pickleshare` library.\n",
      "  self.shell.db['dhist'] = compress_dhist(dhist)[-100:]\n"
     ]
    }
   ],
   "source": [
    "cd /home/nhan-softzone/law_search"
   ]
  },
  {
   "cell_type": "code",
   "execution_count": 2,
   "metadata": {},
   "outputs": [
    {
     "name": "stderr",
     "output_type": "stream",
     "text": [
      "/home/nhan-softzone/miniconda3/envs/law_agent/lib/python3.10/site-packages/tqdm/auto.py:21: TqdmWarning: IProgress not found. Please update jupyter and ipywidgets. See https://ipywidgets.readthedocs.io/en/stable/user_install.html\n",
      "  from .autonotebook import tqdm as notebook_tqdm\n"
     ]
    }
   ],
   "source": [
    "from modules.retrieval_engine.hybrid_engine import HybridRetrievalEngine\n",
    "from modules.retrieval_engine.dense_engine import DenseRetrievalEngine\n",
    "from modules.retrieval_engine.bm25_engine import BM25RetrievalEngine"
   ]
  },
  {
   "cell_type": "code",
   "execution_count": null,
   "metadata": {},
   "outputs": [],
   "source": [
    "import numpy as np\n",
    "from tqdm import tqdm\n",
    "from datasets import load_dataset\n",
    "import random"
   ]
  },
  {
   "cell_type": "code",
   "execution_count": 4,
   "metadata": {},
   "outputs": [],
   "source": [
    "model_name = 'bkai-foundation-models/vietnamese-bi-encoder'\n",
    "dataset_name = 'another-symato/VMTEB-Zalo-legel-retrieval'\n",
    "word_segment = True\n",
    "num_corpus_addition = 0\n",
    "engine = HybridRetrievalEngine(dense_params={'model_name': model_name, \n",
    "                                             'dimension': 768})"
   ]
  },
  {
   "cell_type": "code",
   "execution_count": 5,
   "metadata": {},
   "outputs": [
    {
     "name": "stdout",
     "output_type": "stream",
     "text": [
      "640\n"
     ]
    }
   ],
   "source": [
    "if word_segment:\n",
    "    dataset_name += '-wseg'\n",
    "\n",
    "corpus = load_dataset(dataset_name, \"corpus\", split = 'train')\n",
    "queries = load_dataset(dataset_name, \"queries\", split = 'train')\n",
    "relevant_docs_data = load_dataset(dataset_name, 'data_ir', split=\"test\")\n",
    "    \n",
    "required_corpus_ids = list(map(str, relevant_docs_data[\"corpus_id\"]))\n",
    "if num_corpus_addition:\n",
    "    required_corpus_ids += random.sample(corpus[\"id\"], k = num_corpus_addition)\n",
    "print(len(required_corpus_ids))\n",
    "corpus = corpus.filter(lambda x: x[\"id\"] in required_corpus_ids)\n",
    "    \n",
    "required_queries_ids = list(map(str, relevant_docs_data[\"query_id\"]))\n",
    "queries = queries.filter(lambda x: x[\"query_id\"] in required_queries_ids)\n",
    "    \n",
    "corpus_dict = dict(zip(corpus[\"id\"], corpus[\"text\"]))\n",
    "queries_dict = dict(zip(queries[\"query_id\"], queries[\"question\"]))\n",
    "relevant_docs = {} \n",
    "for qid, corpus_ids in zip(relevant_docs_data[\"query_id\"], relevant_docs_data[\"corpus_id\"]):\n",
    "    qid = str(qid)\n",
    "    corpus_ids = str(corpus_ids)\n",
    "    if qid not in relevant_docs:\n",
    "        relevant_docs[qid] = set()\n",
    "    relevant_docs[qid].add(corpus_ids)"
   ]
  },
  {
   "cell_type": "code",
   "execution_count": 6,
   "metadata": {},
   "outputs": [],
   "source": [
    "corpus_content = corpus['text']"
   ]
  },
  {
   "cell_type": "code",
   "execution_count": 7,
   "metadata": {},
   "outputs": [
    {
     "name": "stderr",
     "output_type": "stream",
     "text": [
      "                                                                  \r"
     ]
    },
    {
     "data": {
      "text/plain": [
       "True"
      ]
     },
     "execution_count": 7,
     "metadata": {},
     "output_type": "execute_result"
    }
   ],
   "source": [
    "engine.index_documents(corpus_content)"
   ]
  },
  {
   "cell_type": "code",
   "execution_count": 44,
   "metadata": {},
   "outputs": [
    {
     "name": "stderr",
     "output_type": "stream",
     "text": [
      "  0%|          | 0/5 [00:00<?, ?it/s]"
     ]
    },
    {
     "name": "stdout",
     "output_type": "stream",
     "text": [
      "[1, 0, 0, 0, 0, 0, 0, 0, 0, 0]\n"
     ]
    },
    {
     "name": "stderr",
     "output_type": "stream",
     "text": []
    },
    {
     "name": "stdout",
     "output_type": "stream",
     "text": [
      "[0, 1, 0, 0, 0, 0, 0, 0, 0, 0]\n"
     ]
    },
    {
     "name": "stderr",
     "output_type": "stream",
     "text": []
    },
    {
     "name": "stdout",
     "output_type": "stream",
     "text": [
      "[1, 0, 0, 0, 0, 0, 0, 0, 0, 0]\n"
     ]
    },
    {
     "name": "stderr",
     "output_type": "stream",
     "text": [
      " 80%|████████  | 4/5 [00:00<00:00, 36.25it/s]"
     ]
    },
    {
     "name": "stdout",
     "output_type": "stream",
     "text": [
      "[1, 0, 0, 0, 0, 0, 0, 0, 0, 0]\n"
     ]
    },
    {
     "name": "stderr",
     "output_type": "stream",
     "text": [
      "100%|██████████| 5/5 [00:00<00:00, 36.27it/s]"
     ]
    },
    {
     "name": "stdout",
     "output_type": "stream",
     "text": [
      "[1, 0, 0, 0, 0, 0, 0, 0, 0, 0]\n"
     ]
    },
    {
     "name": "stderr",
     "output_type": "stream",
     "text": [
      "\n"
     ]
    }
   ],
   "source": [
    "for qid in tqdm(range(5)):\n",
    "    query = queries[qid]['question']\n",
    "    query_id = queries[qid]['query_id']\n",
    "    top_ids, scores = engine.search(query, top_k = 10)\n",
    "    relevance = [1 if corpus[int(doc_id)]['id'] in relevant_docs[query_id] else 0 for doc_id in top_ids]\n",
    "    print(relevance)"
   ]
  },
  {
   "cell_type": "code",
   "execution_count": null,
   "metadata": {},
   "outputs": [],
   "source": []
  }
 ],
 "metadata": {
  "kernelspec": {
   "display_name": "law_agent",
   "language": "python",
   "name": "python3"
  },
  "language_info": {
   "codemirror_mode": {
    "name": "ipython",
    "version": 3
   },
   "file_extension": ".py",
   "mimetype": "text/x-python",
   "name": "python",
   "nbconvert_exporter": "python",
   "pygments_lexer": "ipython3",
   "version": "3.10.0"
  }
 },
 "nbformat": 4,
 "nbformat_minor": 2
}
