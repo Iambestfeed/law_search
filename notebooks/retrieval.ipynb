{
 "cells": [
  {
   "cell_type": "code",
   "execution_count": 1,
   "metadata": {},
   "outputs": [
    {
     "name": "stdout",
     "output_type": "stream",
     "text": [
      "d:\\law_graph_agent\n"
     ]
    }
   ],
   "source": [
    "cd .."
   ]
  },
  {
   "cell_type": "code",
   "execution_count": 2,
   "metadata": {},
   "outputs": [
    {
     "name": "stderr",
     "output_type": "stream",
     "text": [
      "c:\\ProgramData\\miniconda3\\envs\\law_agent\\lib\\site-packages\\tqdm\\auto.py:21: TqdmWarning: IProgress not found. Please update jupyter and ipywidgets. See https://ipywidgets.readthedocs.io/en/stable/user_install.html\n",
      "  from .autonotebook import tqdm as notebook_tqdm\n"
     ]
    },
    {
     "name": "stdout",
     "output_type": "stream",
     "text": [
      "resource module not available on Windows\n"
     ]
    }
   ],
   "source": [
    "import random\n",
    "import numpy as np\n",
    "import pandas as pd\n",
    "from datasets import load_dataset\n",
    "from modules.eval.retrieval.hybrid_engine import HybridEvaluationEngine"
   ]
  },
  {
   "cell_type": "code",
   "execution_count": 3,
   "metadata": {},
   "outputs": [
    {
     "name": "stderr",
     "output_type": "stream",
     "text": [
      "c:\\ProgramData\\miniconda3\\envs\\law_agent\\lib\\site-packages\\tqdm\\auto.py:21: TqdmWarning: IProgress not found. Please update jupyter and ipywidgets. See https://ipywidgets.readthedocs.io/en/stable/user_install.html\n",
      "  from .autonotebook import tqdm as notebook_tqdm\n"
     ]
    },
    {
     "ename": "ModuleNotFoundError",
     "evalue": "No module named 'modules.eval.base_engine'",
     "output_type": "error",
     "traceback": [
      "\u001b[1;31m---------------------------------------------------------------------------\u001b[0m",
      "\u001b[1;31mModuleNotFoundError\u001b[0m                       Traceback (most recent call last)",
      "Cell \u001b[1;32mIn[3], line 5\u001b[0m\n\u001b[0;32m      3\u001b[0m \u001b[38;5;28;01mimport\u001b[39;00m\u001b[38;5;250m \u001b[39m\u001b[38;5;21;01mpandas\u001b[39;00m\u001b[38;5;250m \u001b[39m\u001b[38;5;28;01mas\u001b[39;00m\u001b[38;5;250m \u001b[39m\u001b[38;5;21;01mpd\u001b[39;00m\n\u001b[0;32m      4\u001b[0m \u001b[38;5;28;01mfrom\u001b[39;00m\u001b[38;5;250m \u001b[39m\u001b[38;5;21;01mdatasets\u001b[39;00m\u001b[38;5;250m \u001b[39m\u001b[38;5;28;01mimport\u001b[39;00m load_dataset\n\u001b[1;32m----> 5\u001b[0m \u001b[38;5;28;01mfrom\u001b[39;00m\u001b[38;5;250m \u001b[39m\u001b[38;5;21;01mmodules\u001b[39;00m\u001b[38;5;21;01m.\u001b[39;00m\u001b[38;5;21;01meval\u001b[39;00m\u001b[38;5;21;01m.\u001b[39;00m\u001b[38;5;21;01mhybrid_engine\u001b[39;00m\u001b[38;5;250m \u001b[39m\u001b[38;5;28;01mimport\u001b[39;00m HybridEvaluationEngine\n\u001b[0;32m      7\u001b[0m \u001b[38;5;66;03m# Configuration\u001b[39;00m\n\u001b[0;32m      8\u001b[0m bm25_weight \u001b[38;5;241m=\u001b[39m \u001b[38;5;241m0.5\u001b[39m\n",
      "File \u001b[1;32md:\\law_graph_agent\\modules\\eval\\__init__.py:2\u001b[0m\n\u001b[0;32m      1\u001b[0m \u001b[38;5;66;03m# Import evaluation engines\u001b[39;00m\n\u001b[1;32m----> 2\u001b[0m \u001b[38;5;28;01mfrom\u001b[39;00m\u001b[38;5;250m \u001b[39m\u001b[38;5;21;01m.\u001b[39;00m\u001b[38;5;21;01mbase_engine\u001b[39;00m\u001b[38;5;250m \u001b[39m\u001b[38;5;28;01mimport\u001b[39;00m BaseEvaluationEngine\n\u001b[0;32m      3\u001b[0m \u001b[38;5;28;01mfrom\u001b[39;00m\u001b[38;5;250m \u001b[39m\u001b[38;5;21;01m.\u001b[39;00m\u001b[38;5;21;01mhybrid_engine\u001b[39;00m\u001b[38;5;250m \u001b[39m\u001b[38;5;28;01mimport\u001b[39;00m HybridEvaluationEngine\n\u001b[0;32m      4\u001b[0m \u001b[38;5;28;01mfrom\u001b[39;00m\u001b[38;5;250m \u001b[39m\u001b[38;5;21;01m.\u001b[39;00m\u001b[38;5;21;01mclassification_base_engine\u001b[39;00m\u001b[38;5;250m \u001b[39m\u001b[38;5;28;01mimport\u001b[39;00m BaseClassificationEvaluationEngine\n",
      "\u001b[1;31mModuleNotFoundError\u001b[0m: No module named 'modules.eval.base_engine'"
     ]
    }
   ],
   "source": [
    "# Configuration\n",
    "bm25_weight = 0.5\n",
    "dense_weight = 0.5\n",
    "rrf_k = 60.0\n",
    "batch_size = 32\n",
    "dimension = 768\n",
    "\n",
    "models = {\n",
    "    \"bkai\": {\n",
    "        \"model_name\": \"bkai-foundation-models/vietnamese-bi-encoder\",\n",
    "        \"word_segment\": True\n",
    "    },\n",
    "    \"halong\": {\n",
    "        \"model_name\": \"hiieu/halong_embedding\",\n",
    "        \"word_segment\": False\n",
    "    }\n",
    "}\n",
    "\n",
    "dataset_name_base = \"another-symato/VMTEB-Zalo-legel-retrieval\"\n",
    "num_corpus_addition = 0\n",
    "\n",
    "eval_results = {}\n",
    "\n",
    "for model_key, model_config in models.items():\n",
    "    dataset_name = dataset_name_base + \"-wseg\" if model_config[\"word_segment\"] else dataset_name_base\n",
    "    \n",
    "    # Load datasets\n",
    "    corpus = load_dataset(dataset_name, \"corpus\", split='train')\n",
    "    queries = load_dataset(dataset_name, \"queries\", split='train')\n",
    "    relevant_docs_data = load_dataset(dataset_name, \"data_ir\", split=\"test\")\n",
    "    \n",
    "    # Filter corpus and queries based on relevant docs\n",
    "    required_corpus_ids = list(map(str, relevant_docs_data[\"corpus_id\"]))\n",
    "    if num_corpus_addition:\n",
    "        required_corpus_ids += random.sample(corpus[\"id\"], k=num_corpus_addition)\n",
    "    corpus = corpus.filter(lambda x: x[\"id\"] in required_corpus_ids)\n",
    "    \n",
    "    required_queries_ids = list(map(str, relevant_docs_data[\"query_id\"]))\n",
    "    queries = queries.filter(lambda x: x[\"query_id\"] in required_queries_ids)\n",
    "    \n",
    "    # Convert to dictionary format\n",
    "    corpus_dict = dict(zip(corpus[\"id\"], corpus[\"text\"]))\n",
    "    queries_dict = dict(zip(queries[\"query_id\"], queries[\"question\"]))\n",
    "    relevant_docs = {}\n",
    "    for qid, corpus_id in zip(relevant_docs_data[\"query_id\"], relevant_docs_data[\"corpus_id\"]):\n",
    "        qid = str(qid)\n",
    "        corpus_id = str(corpus_id)\n",
    "        if qid not in relevant_docs:\n",
    "            relevant_docs[qid] = set()\n",
    "        relevant_docs[qid].add(corpus_id)\n",
    "    \n",
    "    # Initialize evaluation engine\n",
    "    engine = HybridEvaluationEngine(\n",
    "        model_name=model_config[\"model_name\"],\n",
    "        bm25_weight=bm25_weight,\n",
    "        dense_weight=dense_weight,\n",
    "        rrf_k=rrf_k,\n",
    "        dimension=dimension\n",
    "    )\n",
    "    \n",
    "    # Run evaluation\n",
    "    eval_results[model_key] = engine.evaluate(queries, corpus, relevant_docs)\n",
    "\n",
    "# Create score board\n",
    "df_score_board = pd.DataFrame(eval_results)"
   ]
  },
  {
   "cell_type": "code",
   "execution_count": 27,
   "metadata": {},
   "outputs": [],
   "source": [
    "df_score_board.to_json('output/scores.json')"
   ]
  },
  {
   "cell_type": "code",
   "execution_count": null,
   "metadata": {},
   "outputs": [],
   "source": []
  }
 ],
 "metadata": {
  "kernelspec": {
   "display_name": "law_agent",
   "language": "python",
   "name": "python3"
  },
  "language_info": {
   "codemirror_mode": {
    "name": "ipython",
    "version": 3
   },
   "file_extension": ".py",
   "mimetype": "text/x-python",
   "name": "python",
   "nbconvert_exporter": "python",
   "pygments_lexer": "ipython3",
   "version": "3.10.16"
  }
 },
 "nbformat": 4,
 "nbformat_minor": 2
}
