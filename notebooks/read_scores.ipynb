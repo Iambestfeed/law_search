{
 "cells": [
  {
   "cell_type": "code",
   "execution_count": 13,
   "metadata": {},
   "outputs": [],
   "source": [
    "import pandas as pd\n",
    "import os\n",
    "import json"
   ]
  },
  {
   "cell_type": "code",
   "execution_count": 14,
   "metadata": {},
   "outputs": [],
   "source": [
    "import os\n",
    "import json\n",
    "import pandas as pd\n",
    "\n",
    "def determine_type(file_name):\n",
    "    if \"hybrid\" in file_name.lower():\n",
    "        return \"hybrid\"\n",
    "    elif \"bm25\" in file_name.lower() and \"dense\" not in file_name.lower():\n",
    "        return \"bm25\"\n",
    "    else:\n",
    "        return \"dense\"\n",
    "\n",
    "def read_metrics_from_folder(folder_path, metrics=None):\n",
    "    results = []\n",
    "    \n",
    "    for file_name in os.listdir(folder_path):\n",
    "        file_path = os.path.join(folder_path, file_name)\n",
    "        \n",
    "        if file_name.endswith(\".json\"):\n",
    "            with open(file_path, \"r\", encoding=\"utf-8\") as f:\n",
    "                data = json.load(f)\n",
    "                \n",
    "                file_type = determine_type(file_name)\n",
    "                \n",
    "                for model, values in data.items():\n",
    "                    if file_type == \"bm25\":\n",
    "                        model = \"bm25\"\n",
    "                    \n",
    "                    if metrics is None:\n",
    "                        selected_metrics = values  # Lấy tất cả nếu không chỉ định\n",
    "                    else:\n",
    "                        selected_metrics = {m: values[m] for m in metrics if m in values}\n",
    "                    \n",
    "                    results.append({\"model\": model, \"type\": file_type, **selected_metrics})\n",
    "    \n",
    "    df = pd.DataFrame(results)\n",
    "    return df"
   ]
  },
  {
   "cell_type": "code",
   "execution_count": 15,
   "metadata": {},
   "outputs": [],
   "source": [
    "def save_to_markdown(df, output_path):\n",
    "    with open(output_path, \"w\", encoding=\"utf-8\") as f:\n",
    "        f.write(df.to_markdown(index=False))"
   ]
  },
  {
   "cell_type": "code",
   "execution_count": 16,
   "metadata": {},
   "outputs": [
    {
     "name": "stdout",
     "output_type": "stream",
     "text": [
      "| model                                        | type   |   ndcg@3 |   ndcg@5 |   ndcg@10 |    mrr@3 |    mrr@5 |   mrr@10 |\n",
      "|:---------------------------------------------|:-------|---------:|---------:|----------:|---------:|---------:|---------:|\n",
      "| bkai-foundation-models/vietnamese-bi-encoder | hybrid | 0.827247 | 0.844781 |  0.846937 | 0.799219 | 0.809505 | 0.806771 |\n",
      "| AITeamVN/Vietnamese_Embedding                | dense  | 0.842687 | 0.854993 |  0.865006 | 0.822135 | 0.82901  | 0.833389 |\n",
      "| hiieu/halong_embedding                       | hybrid | 0.73627  | 0.757183 |  0.779169 | 0.710417 | 0.721901 | 0.731976 |\n",
      "| bkai-foundation-models/vietnamese-bi-encoder | dense  | 0.814116 | 0.82965  |  0.839567 | 0.796615 | 0.805286 | 0.809572 |\n",
      "| BAAI/bge-m3                                  | hybrid | 0.775239 | 0.797382 |  0.811962 | 0.747656 | 0.763333 | 0.77128  |\n",
      "| dangvantuan/vietnamese-embedding             | dense  | 0.718971 | 0.746521 |  0.763416 | 0.696354 | 0.711953 | 0.718854 |\n",
      "| bm25                                         | bm25   | 0.728122 | 0.74974  |  0.761612 | 0.699479 | 0.711198 | 0.715738 |\n",
      "| VoVanPhuc/sup-SimCSE-VietNamese-phobert-base | dense  | 0.558852 | 0.584799 |  0.611329 | 0.536979 | 0.55112  | 0.562218 |\n",
      "| AITeamVN/Vietnamese_Embedding                | hybrid | 0.788724 | 0.810062 |  0.820797 | 0.758333 | 0.77224  | 0.776461 |\n",
      "| hiieu/halong_embedding                       | dense  | 0.656377 | 0.675881 |  0.701368 | 0.630469 | 0.641406 | 0.652057 |\n",
      "| BAAI/bge-m3                                  | dense  | 0.784056 | 0.80665  |  0.817016 | 0.763281 | 0.775859 | 0.780293 |\n",
      "| VoVanPhuc/sup-SimCSE-VietNamese-phobert-base | hybrid | 0.688483 | 0.713829 |  0.733894 | 0.660156 | 0.671198 | 0.676961 |\n",
      "| dangvantuan/vietnamese-embedding             | hybrid | 0.71711  | 0.743537 |  0.758315 | 0.690104 | 0.704792 | 0.712261 |\n"
     ]
    }
   ],
   "source": [
    "df = read_metrics_from_folder(\"/home/nhan-softzone/law_search/output\", metrics=['ndcg@3', 'ndcg@5', 'ndcg@10', 'mrr@3', 'mrr@5', 'mrr@10'])\n",
    "print(df.to_markdown(index=False))\n",
    "#save_to_markdown(df, \"output.md\")"
   ]
  },
  {
   "cell_type": "code",
   "execution_count": 17,
   "metadata": {},
   "outputs": [],
   "source": [
    "\n",
    "df = df.sort_values(by=\"ndcg@3\", ascending=False)"
   ]
  },
  {
   "cell_type": "code",
   "execution_count": 21,
   "metadata": {},
   "outputs": [
    {
     "name": "stdout",
     "output_type": "stream",
     "text": [
      "| model                                        | type   |   ndcg@3 |   ndcg@5 |   ndcg@10 |    mrr@3 |    mrr@5 |   mrr@10 |\n",
      "|:---------------------------------------------|:-------|---------:|---------:|----------:|---------:|---------:|---------:|\n",
      "| AITeamVN/Vietnamese_Embedding                | dense  | 0.842687 | 0.854993 |  0.865006 | 0.822135 | 0.82901  | 0.833389 |\n",
      "| bkai-foundation-models/vietnamese-bi-encoder | hybrid | 0.827247 | 0.844781 |  0.846937 | 0.799219 | 0.809505 | 0.806771 |\n",
      "| bkai-foundation-models/vietnamese-bi-encoder | dense  | 0.814116 | 0.82965  |  0.839567 | 0.796615 | 0.805286 | 0.809572 |\n",
      "| AITeamVN/Vietnamese_Embedding                | hybrid | 0.788724 | 0.810062 |  0.820797 | 0.758333 | 0.77224  | 0.776461 |\n",
      "| BAAI/bge-m3                                  | dense  | 0.784056 | 0.80665  |  0.817016 | 0.763281 | 0.775859 | 0.780293 |\n",
      "| BAAI/bge-m3                                  | hybrid | 0.775239 | 0.797382 |  0.811962 | 0.747656 | 0.763333 | 0.77128  |\n",
      "| hiieu/halong_embedding                       | hybrid | 0.73627  | 0.757183 |  0.779169 | 0.710417 | 0.721901 | 0.731976 |\n",
      "| bm25                                         | bm25   | 0.728122 | 0.74974  |  0.761612 | 0.699479 | 0.711198 | 0.715738 |\n",
      "| dangvantuan/vietnamese-embedding             | dense  | 0.718971 | 0.746521 |  0.763416 | 0.696354 | 0.711953 | 0.718854 |\n",
      "| dangvantuan/vietnamese-embedding             | hybrid | 0.71711  | 0.743537 |  0.758315 | 0.690104 | 0.704792 | 0.712261 |\n",
      "| VoVanPhuc/sup-SimCSE-VietNamese-phobert-base | hybrid | 0.688483 | 0.713829 |  0.733894 | 0.660156 | 0.671198 | 0.676961 |\n",
      "| hiieu/halong_embedding                       | dense  | 0.656377 | 0.675881 |  0.701368 | 0.630469 | 0.641406 | 0.652057 |\n",
      "| VoVanPhuc/sup-SimCSE-VietNamese-phobert-base | dense  | 0.558852 | 0.584799 |  0.611329 | 0.536979 | 0.55112  | 0.562218 |\n"
     ]
    }
   ],
   "source": [
    "print(df.to_markdown(index=False))"
   ]
  },
  {
   "cell_type": "code",
   "execution_count": null,
   "metadata": {},
   "outputs": [],
   "source": []
  }
 ],
 "metadata": {
  "kernelspec": {
   "display_name": "law_agent",
   "language": "python",
   "name": "python3"
  },
  "language_info": {
   "codemirror_mode": {
    "name": "ipython",
    "version": 3
   },
   "file_extension": ".py",
   "mimetype": "text/x-python",
   "name": "python",
   "nbconvert_exporter": "python",
   "pygments_lexer": "ipython3",
   "version": "3.10.0"
  }
 },
 "nbformat": 4,
 "nbformat_minor": 2
}
